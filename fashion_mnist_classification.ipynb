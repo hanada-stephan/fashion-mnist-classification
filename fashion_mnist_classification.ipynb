{
 "cells": [
  {
   "cell_type": "markdown",
   "metadata": {
    "id": "HSNr1Umtq4Ks"
   },
   "source": [
    "# Fashion MNIST classification"
   ]
  },
  {
   "cell_type": "markdown",
   "metadata": {},
   "source": [
    "This notebook is based on Alura's course [Deep Learning parte 1: Keras](https://cursos.alura.com.br/course/deep-learning-introducao-com-keras) (Deep Learning Part 1: Keras) by Cássia Sampaio.\n",
    "\n",
    "All code was written in Python 3 using Google Colab.\n",
    "\n",
    "**For more information, check the README**"
   ]
  },
  {
   "cell_type": "markdown",
   "metadata": {},
   "source": [
    "---"
   ]
  },
  {
   "cell_type": "markdown",
   "metadata": {},
   "source": [
    "# Artificial Neural Networks"
   ]
  },
  {
   "cell_type": "markdown",
   "metadata": {
    "id": "7KqrN3i3Dcb6"
   },
   "source": [
    "To correctly classify clothes images, we will use artificial neural networks (ann) or neural networks (NN). The NN mimics the function of brain cells, which receives input signals from dendrites, transform and send them to another cell via axons. Under the deep learning terminology, the brain cells are called nodes, the dendrites are the input layer, the axons are the output layer, and the information transformations occur in the hidden layer, which is not the best name for it but the idea is that we \"cannot see\" the transformation inside of it. All the nodes of layer **j** are connected to each node from layer **j+1**. \n",
    "\n",
    "Here is a NN representation ([source](https://www.databricks.com/glossary/neural-network)):\n",
    "\n",
    "![title](./img/neural1.jpg)\n",
    "\n",
    "Since we are dealing with image classification, the inputs are matrices (28x28 to be precise) and it is necessary to convert it, or flatten it, into a one-dimensional-like format, that each node is a pixel. The transformation between layers is done using weights, also known as parameters. Then, in the hidden layers (yes, it could have several of them), each node applies the activation function. In our case, we use ReLU (we are going to discuss it later). Finally, the output layer has the exact number of output classes with each node carrying the probability of them being the correct outcome. \n",
    "\n",
    "## ReLU Activation function\n",
    "\n",
    "ReLU stands for **rectified linear unit** and it is defined as\n",
    "\n",
    "$f(x) = max(0,x)$, i.e. if the input is a negative number, it returns 0 and keeps the positive value. The function is non-differentiable at zero and, in this case, either 0 or 1 is chosen arbitrarily.\n",
    "\n",
    "## Softmax function\n",
    "\n",
    "The softmax function is used at the last hidden layer and it transforms a vector of K integers into a probability distribution between 0 and 1 that sum up to 1. This function is given by\n",
    "\n",
    "$σ(z)_{i} = \\frac{e^{z_{i}}}{\\sum^{K}_{j=1} e^{z_{j}}}$ for i = 1,...,K, z = ($z_{1},...,z_{K}$) $\\in \\mathbb{R}^{K}$.  \n",
    "\n",
    "## Dropout layer\n",
    "\n",
    "The dropout layer randomly sets some node rates to 0 to prevent overfitting, i.e., the model adapts very well to the training set and has poor performance in the test set. In our case, we dropped out 20% of all of them."
   ]
  },
  {
   "cell_type": "markdown",
   "metadata": {},
   "source": [
    "Before building the model, let's explore the data set."
   ]
  },
  {
   "cell_type": "markdown",
   "metadata": {},
   "source": [
    "---"
   ]
  },
  {
   "cell_type": "markdown",
   "metadata": {},
   "source": [
    "# EDA"
   ]
  },
  {
   "cell_type": "code",
   "execution_count": null,
   "metadata": {
    "id": "lexdAkHMq4Kv"
   },
   "outputs": [],
   "source": [
    "# Importing libraries\n",
    "\n",
    "import matplotlib.pyplot as plt\n",
    "import numpy as np\n",
    "import tensorflow\n",
    "from tensorflow import keras"
   ]
  },
  {
   "cell_type": "code",
   "execution_count": null,
   "metadata": {
    "colab": {
     "base_uri": "https://localhost:8080/"
    },
    "id": "vLizw4qsq4Kw",
    "outputId": "d1e8e295-355e-4826-85b2-a4ae5f8bb22e"
   },
   "outputs": [
    {
     "name": "stdout",
     "output_type": "stream",
     "text": [
      "Downloading data from https://storage.googleapis.com/tensorflow/tf-keras-datasets/train-labels-idx1-ubyte.gz\n",
      "29515/29515 [==============================] - 0s 0us/step\n",
      "Downloading data from https://storage.googleapis.com/tensorflow/tf-keras-datasets/train-images-idx3-ubyte.gz\n",
      "26421880/26421880 [==============================] - 1s 0us/step\n",
      "Downloading data from https://storage.googleapis.com/tensorflow/tf-keras-datasets/t10k-labels-idx1-ubyte.gz\n",
      "5148/5148 [==============================] - 0s 0us/step\n",
      "Downloading data from https://storage.googleapis.com/tensorflow/tf-keras-datasets/t10k-images-idx3-ubyte.gz\n",
      "4422102/4422102 [==============================] - 0s 0us/step\n"
     ]
    }
   ],
   "source": [
    "# Loading clothes data set\n",
    "\n",
    "dataset = keras.datasets.fashion_mnist\n",
    "((X_train, y_train),(X_test, y_test)) = dataset.load_data()"
   ]
  },
  {
   "cell_type": "code",
   "execution_count": null,
   "metadata": {
    "colab": {
     "base_uri": "https://localhost:8080/"
    },
    "id": "M-7uDwTFq4Ky",
    "outputId": "0f5c5839-f1ef-4b0f-9a97-efb8895acb68"
   },
   "outputs": [
    {
     "name": "stdout",
     "output_type": "stream",
     "text": [
      "Training set size: (60000, 28, 28)\n",
      "Test set size: (10000, 28, 28)\n"
     ]
    }
   ],
   "source": [
    "# Checking the size of the training set\n",
    "\n",
    "print(\"Training set size:\", X_train.shape)\n",
    "print(\"Test set size:\", X_test.shape)"
   ]
  },
  {
   "cell_type": "markdown",
   "metadata": {
    "id": "w9Fb0Ew2q4Kz"
   },
   "source": [
    "There are 60000 training images for training and 10000 for testing in 28x28 matrices,"
   ]
  },
  {
   "cell_type": "code",
   "execution_count": null,
   "metadata": {
    "colab": {
     "base_uri": "https://localhost:8080/"
    },
    "id": "zTu9Kn2iq4Kz",
    "outputId": "c82062b2-6b70-48a9-d4f0-d87614a9c592"
   },
   "outputs": [
    {
     "name": "stdout",
     "output_type": "stream",
     "text": [
      "Training set size: (60000,)\n",
      "Test set size: (10000,)\n"
     ]
    }
   ],
   "source": [
    "# Checking the size of the test set\n",
    "\n",
    "print(\"Training set size:\", y_train.shape)\n",
    "print(\"Test set size:\", y_test.shape)"
   ]
  },
  {
   "cell_type": "markdown",
   "metadata": {
    "id": "NkGo7JDZq4K0"
   },
   "source": [
    "The test sets also have 60000 and 10000 for identification training and test sets, respectively. Now, let's take a look at the images in the training set."
   ]
  },
  {
   "cell_type": "code",
   "execution_count": null,
   "metadata": {
    "colab": {
     "base_uri": "https://localhost:8080/",
     "height": 265
    },
    "id": "7irSdTP7q4K0",
    "outputId": "7e4e576f-67da-4ec9-ad8c-b92497e183e0"
   },
   "outputs": [
    {
     "data": {
      "image/png": "[encoded data removed]",
      "text/plain": [
       "<Figure size 432x288 with 1 Axes>"
      ]
     },
     "metadata": {
      "needs_background": "light"
     },
     "output_type": "display_data"
    }
   ],
   "source": [
    "# Displaying one imagem from training set\n",
    "\n",
    "plt.imshow(X_train[0])\n",
    "plt.show()"
   ]
  },
  {
   "cell_type": "markdown",
   "metadata": {
    "id": "9CqZglW1sQvq"
   },
   "source": [
    "The variables y_train and y_test store the identification of the images. Let's look how many there are and their corresponding images."
   ]
  },
  {
   "cell_type": "code",
   "execution_count": null,
   "metadata": {
    "colab": {
     "base_uri": "https://localhost:8080/",
     "height": 240
    },
    "id": "biQ38DEtq4K1",
    "outputId": "32f3b0be-e715-4874-b4c2-0f1291c4692e"
   },
   "outputs": [
    {
     "data": {
      "image/png": "[encoded data removed]",
      "text/plain": [
       "<Figure size 432x288 with 10 Axes>"
      ]
     },
     "metadata": {
      "needs_background": "light"
     },
     "output_type": "display_data"
    }
   ],
   "source": [
    "# Displaying several images from the training set and their identifications\n",
    "\n",
    "for image in range(10):\n",
    "  plt.subplot(2,5, image+1)\n",
    "  plt.imshow(X_train[image])\n",
    "  plt.title(y_train[image])"
   ]
  },
  {
   "cell_type": "code",
   "execution_count": null,
   "metadata": {
    "colab": {
     "base_uri": "https://localhost:8080/"
    },
    "id": "Zq9D6-OitHwh",
    "outputId": "7b7f194a-18c9-4b4d-8e4c-3ac6ea2e6091"
   },
   "outputs": [
    {
     "name": "stdout",
     "output_type": "stream",
     "text": [
      "Max:  9\n",
      "Min:  0\n"
     ]
    }
   ],
   "source": [
    "# Printing the max and min number of identifications\n",
    "\n",
    "print(\"Max: \", y_train.max())\n",
    "print(\"Min: \", y_train.min())"
   ]
  },
  {
   "cell_type": "markdown",
   "metadata": {
    "id": "QhcuoiwqtDVA"
   },
   "source": [
    "The data set uses numbers from 0 to 9 to separate the images into ten types of identification. Looking at the [Fashion MNIST Github repository](https://github.com/zalandoresearch/fashion-mnist#labels), there is a table containing information about the labels used in the data set:\n",
    "\n",
    "|Label|Description|\n",
    "|-----|-----------|\n",
    "|0|T-shirt/top|\n",
    "|1|Trouser|\n",
    "|2|Pullover|\n",
    "|3|Dress|\n",
    "|4|Coat|\n",
    "|5|Sandal|\n",
    "|6|Shirt|\n",
    "|7|Sneaker|\n",
    "|8|Bag|\n",
    "|9|Ankle boot|"
   ]
  },
  {
   "cell_type": "markdown",
   "metadata": {},
   "source": [
    "--- "
   ]
  },
  {
   "cell_type": "markdown",
   "metadata": {
    "id": "XD_Rrw7vD7Zs"
   },
   "source": [
    "# Building the model"
   ]
  },
  {
   "cell_type": "markdown",
   "metadata": {
    "id": "3P4dg6W2EAqz"
   },
   "source": [
    "Using the Keras framework, the model will have sequential layers: the first one will have 256 nodes and the last one 10 due to the number of labels in the data set. Also, it is necessary to flatten the images, i.e., converting them from a 28x28 matrix into a one-dimensional array. We need to include 20% dropout nodes, so these nodes will be set as 0 and the other ones will be set as $\\frac{1}{1-rate}$, which, in this case, the rate = 0.2. This step is recommended to avoid overfitting."
   ]
  },
  {
   "cell_type": "markdown",
   "metadata": {
    "id": "T9oatGVFhrR1"
   },
   "source": [
    "# Optimizers\n",
    "\n",
    "## Adam\n",
    "\n",
    "Adam stands for adaptative moment estimation and computes adaptive learning rates for every parameter (or weights) based on the cost function J($Θ). It converges faster than the gradient descent by using the first and second gradient momentum (steps of the gradient descent towards the global minimum) and they are defined as\n",
    "\n",
    "$m_{t} = β_{1}m_{t-1} + (1-β_{1})g_{t}$ and \n",
    "$v_{t} = β_{2}v_{t-1} + (1-β_{2})g_{t}^{2}$ respectively where m is the estimate of the first momentum (the mean), v is the estimate of the second momentum (the uncentered variance), $β_{1}$ and $β_{2}$ are the exponential decay rates for the moment estimates, and the $g_{t}$ is the gradient of the stochastic objective function with parameters $θ$. Both $m_{t}$ and $v_{t}$ are initialized with 0, they are biased towards zero. Thus it is necessary to introduce the correction, given by\n",
    "\n",
    "$\\hat{m_{t}} = \\frac{m_{t}}{1-β^{t}_{1}}$ and\n",
    "$\\hat{v_{t}} = \\frac{v_{t}}{1-β^{t}_{2}}$. \n",
    "\n",
    "Finally, the parameters are updated as follows:\n",
    "\n",
    "$θ_{t+1} = \\theta_{t} - \\frac{\\alpha - \\hat{m_{t}}}{\\sqrt{\\hat{v_{t}}} +ϵ}$, where $\\alpha$ is the stepsize and ϵ is a small constant to numerical stability.\n",
    "\n",
    "## Sparse Categorical Cross-entropy\n",
    "\n",
    "Sparse Categorical Crossentropy is a loss function we want to minimize during the model training. Image classification is a multi-label classification, thus the cross-entropy is given by:\n",
    "\n",
    "$Loss = - ∑_{i}^{n} y_{i} \\cdot ln(\\hat{y_{i}})$, where n is the output size, the $y_{i}$ is the true or expected value, and the $\\hat{y_{i}}$ is the predicted value. The sparse cross-entropy will return an array-like object only with the label and its probability, instead of a list with all the categories and their probabilities. "
   ]
  },
  {
   "cell_type": "markdown",
   "metadata": {
    "id": "_os7kQmMi4Rn"
   },
   "source": [
    "## Backpropagation\n",
    "\n",
    "Backpropagation is a way to calculate unknown parameters of a neural network starting from the end (close to the output layer) and running the NN backward. First, it initializes all the weights randomly and biases with zeros. Then, the model does the calculations to get the output and uses the sum of the squared errors (SSR), defined as\n",
    "\n",
    "$SSR = \\sum_{i}^{n}(y_{i}-\\hat{y_{i}})$,\n",
    "\n",
    "to optimize the parameters by applying the gradient descent with respect to the weights and biases, and the new parameter values are given by\n",
    "\n",
    "new value = old value - $\\frac{derivates}{\\text{learning rate}}$. \n",
    "\n",
    "This process repeats until the parameters are optimized or it reaches the maximum number of iterations.\n",
    "\n"
   ]
  },
  {
   "cell_type": "markdown",
   "metadata": {},
   "source": [
    "Now we know the main mathematical part of a NN, let's build the model. "
   ]
  },
  {
   "cell_type": "code",
   "execution_count": null,
   "metadata": {
    "id": "GQvrgLdGq4K1"
   },
   "outputs": [],
   "source": [
    "# Building the model\n",
    "\n",
    "model = keras.Sequential()\n",
    "model.add(keras.layers.Flatten(input_shape=(28,28)))\n",
    "model.add(keras.layers.Dense(256, activation=tensorflow.nn.relu))\n",
    "model.add(keras.layers.Dropout(0.2, seed=42))\n",
    "model.add(keras.layers.Dense(10, activation=tensorflow.nn.softmax))"
   ]
  },
  {
   "cell_type": "code",
   "execution_count": null,
   "metadata": {
    "colab": {
     "base_uri": "https://localhost:8080/"
    },
    "id": "qv4oYgUCq4K1",
    "outputId": "64399168-92c2-4f04-8a3f-0f067118b1db"
   },
   "outputs": [
    {
     "name": "stdout",
     "output_type": "stream",
     "text": [
      "Epoch 1/5\n",
      "1875/1875 [==============================] - 8s 4ms/step - loss: 2.8751 - accuracy: 0.6352\n",
      "Epoch 2/5\n",
      "1875/1875 [==============================] - 9s 5ms/step - loss: 0.8397 - accuracy: 0.6841\n",
      "Epoch 3/5\n",
      "1875/1875 [==============================] - 6s 3ms/step - loss: 0.7871 - accuracy: 0.7112\n",
      "Epoch 4/5\n",
      "1875/1875 [==============================] - 5s 3ms/step - loss: 0.7618 - accuracy: 0.7214\n",
      "Epoch 5/5\n",
      "1875/1875 [==============================] - 5s 3ms/step - loss: 0.7180 - accuracy: 0.7353\n"
     ]
    },
    {
     "data": {
      "text/plain": [
       "<keras.callbacks.History at 0x7fdd117bb5d0>"
      ]
     },
     "execution_count": 9,
     "metadata": {},
     "output_type": "execute_result"
    }
   ],
   "source": [
    "# Training the model\n",
    "\n",
    "model.compile(optimizer=\"adam\", loss=\"sparse_categorical_crossentropy\", metrics=[\"accuracy\"])\n",
    "model.fit(X_train, y_train, epochs=5)"
   ]
  },
  {
   "cell_type": "markdown",
   "metadata": {
    "id": "1FIYMRC6g-Ho"
   },
   "source": [
    "After training the model 5 times, the loss is around 0.7. It is possible to decrease this value by normalizing the images. Since they are in a grayscale format, each pixel could hold values from 0 (white) to 255 (black), we can reduce these interval numbers between 0 and 1, thus reducing the loss. Let's normalize all the images and train the model once more. "
   ]
  },
  {
   "cell_type": "code",
   "execution_count": null,
   "metadata": {
    "id": "CDd-SqtNq4K1"
   },
   "outputs": [],
   "source": [
    "# Images normalization\n",
    "\n",
    "X_train = X_train/float(255)\n",
    "X_test = X_test/float(255)"
   ]
  },
  {
   "cell_type": "code",
   "execution_count": null,
   "metadata": {
    "colab": {
     "base_uri": "https://localhost:8080/"
    },
    "id": "EwUipnq5q4K2",
    "outputId": "257832a8-7588-4777-e35c-c19f060ff60f"
   },
   "outputs": [
    {
     "name": "stdout",
     "output_type": "stream",
     "text": [
      "Epoch 1/5\n",
      "1500/1500 [==============================] - 5s 3ms/step - loss: 0.8337 - accuracy: 0.7015 - val_loss: 0.4667 - val_accuracy: 0.8325\n",
      "Epoch 2/5\n",
      "1500/1500 [==============================] - 5s 3ms/step - loss: 0.4958 - accuracy: 0.8196 - val_loss: 0.4315 - val_accuracy: 0.8433\n",
      "Epoch 3/5\n",
      "1500/1500 [==============================] - 5s 3ms/step - loss: 0.4396 - accuracy: 0.8397 - val_loss: 0.3908 - val_accuracy: 0.8532\n",
      "Epoch 4/5\n",
      "1500/1500 [==============================] - 5s 3ms/step - loss: 0.4105 - accuracy: 0.8489 - val_loss: 0.3719 - val_accuracy: 0.8638\n",
      "Epoch 5/5\n",
      "1500/1500 [==============================] - 4s 3ms/step - loss: 0.3917 - accuracy: 0.8561 - val_loss: 0.3633 - val_accuracy: 0.8654\n"
     ]
    }
   ],
   "source": [
    "# Training the model with normalized images\n",
    "\n",
    "history = model.fit(X_train, y_train, epochs=5, validation_split=0.2)"
   ]
  },
  {
   "cell_type": "markdown",
   "metadata": {
    "id": "w6n7c9MojAmJ"
   },
   "source": [
    "The loss value is now around 0.35, which is less than the previous model and so did the accuracy.\n",
    "\n",
    "Now, let's test the model."
   ]
  },
  {
   "cell_type": "code",
   "execution_count": null,
   "metadata": {
    "colab": {
     "base_uri": "https://localhost:8080/"
    },
    "id": "1MO_9KZZjJ3S",
    "outputId": "13d66762-32c9-44d9-e260-646c115d5dea"
   },
   "outputs": [
    {
     "name": "stdout",
     "output_type": "stream",
     "text": [
      "1875/1875 [==============================] - 3s 1ms/step\n"
     ]
    }
   ],
   "source": [
    "# Test the model\n",
    "\n",
    "y_pred = model.predict(X_train)"
   ]
  },
  {
   "cell_type": "code",
   "execution_count": null,
   "metadata": {
    "colab": {
     "base_uri": "https://localhost:8080/"
    },
    "id": "-6HgMLVVtqH6",
    "outputId": "e70bd6c9-396d-4502-f537-a9c8f99458f9"
   },
   "outputs": [
    {
     "name": "stdout",
     "output_type": "stream",
     "text": [
      "1875/1875 [==============================] - 3s 2ms/step - loss: 0.3398 - accuracy: 0.8726\n"
     ]
    }
   ],
   "source": [
    "# Model evaluation\n",
    "\n",
    "model_loss, model_accuracy = model.evaluate(X_train, y_train)"
   ]
  },
  {
   "cell_type": "markdown",
   "metadata": {
    "id": "d1Bw04TP-Xef"
   },
   "source": [
    "The model evaluation gave us around 0.34 of loss and an accuracy of approximately 0.87. Let's check the history of accuracies and loss values in each epoch."
   ]
  },
  {
   "cell_type": "code",
   "execution_count": null,
   "metadata": {
    "colab": {
     "base_uri": "https://localhost:8080/",
     "height": 295
    },
    "id": "-41C94j1tqFT",
    "outputId": "c28d5ae0-3b9b-4e7e-df0f-817e35553efb"
   },
   "outputs": [
    {
     "data": {
      "image/png": "[encoded data removed]",
      "text/plain": [
       "<Figure size 432x288 with 1 Axes>"
      ]
     },
     "metadata": {
      "needs_background": "light"
     },
     "output_type": "display_data"
    }
   ],
   "source": [
    "# PLotting the accuracies history\n",
    "\n",
    "plt.plot(history.history[\"accuracy\"])\n",
    "plt.plot(history.history[\"val_accuracy\"])\n",
    "plt.title(\"Accuracy value by epoch\")\n",
    "plt.xlabel(\"Epoch\")\n",
    "plt.ylabel(\"Accuracy\")\n",
    "plt.legend([\"Accuracy train\", \"Accuracy validation\"])\n",
    "plt.show()"
   ]
  },
  {
   "cell_type": "code",
   "execution_count": null,
   "metadata": {
    "colab": {
     "base_uri": "https://localhost:8080/",
     "height": 295
    },
    "id": "D8mWbqMDtqCW",
    "outputId": "c71e0cd5-9282-4365-b205-79ae44fe6901"
   },
   "outputs": [
    {
     "data": {
      "image/png": "[encoded data removed]",
      "text/plain": [
       "<Figure size 432x288 with 1 Axes>"
      ]
     },
     "metadata": {
      "needs_background": "light"
     },
     "output_type": "display_data"
    }
   ],
   "source": [
    "# PLotting the losses history\n",
    "\n",
    "plt.plot(history.history[\"loss\"])\n",
    "plt.plot(history.history[\"val_loss\"])\n",
    "plt.title(\"Loss value by epoch\")\n",
    "plt.xlabel(\"Epoch\")\n",
    "plt.ylabel(\"Loss\")\n",
    "plt.legend([\"Loss train\", \"Loss validation\"])\n",
    "plt.show()"
   ]
  },
  {
   "cell_type": "markdown",
   "metadata": {
    "id": "ExIqD3UC_7kp"
   },
   "source": [
    "The graphs show both accuracies and losses value decreased over epochs, which for the former metric is not good but for the latter one is great. Plus, both values for both metrics are similar which discards the chance of overfitting (when the model has a great performance over the training set and poor results in the unseen data) or underfitting (when the model has poor performance in the training set)."
   ]
  },
  {
   "cell_type": "markdown",
   "metadata": {},
   "source": [
    "---"
   ]
  }
 ],
 "metadata": {
  "colab": {
   "provenance": []
  },
  "kernelspec": {
   "display_name": "Python 3 (ipykernel)",
   "language": "python",
   "name": "python3"
  },
  "language_info": {
   "codemirror_mode": {
    "name": "ipython",
    "version": 3
   },
   "file_extension": ".py",
   "mimetype": "text/x-python",
   "name": "python",
   "nbconvert_exporter": "python",
   "pygments_lexer": "ipython3",
   "version": "3.9.13"
  }
 },
 "nbformat": 4,
 "nbformat_minor": 1
}
